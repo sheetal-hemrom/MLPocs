{
 "cells": [
  {
   "cell_type": "markdown",
   "metadata": {},
   "source": [
    "# LEARNING\n",
    "### My new ML Project\n",
    "\n",
    "Hello This is my first ML Proj . Go *EASY* on me"
   ]
  },
  {
   "cell_type": "code",
   "execution_count": 6,
   "metadata": {},
   "outputs": [
    {
     "name": "stdout",
     "output_type": "stream",
     "text": [
      "SheetalHemrom/n/n"
     ]
    }
   ],
   "source": [
    "name = \"Sheetal\"\n",
    "fullname = name + \"Hemrom\"\n",
    "print(fullname, end=\"/n/n\")\n",
    "y = 10"
   ]
  },
  {
   "cell_type": "code",
   "execution_count": 7,
   "metadata": {},
   "outputs": [
    {
     "name": "stdout",
     "output_type": "stream",
     "text": [
      "The sum is 11\n",
      "The sum is 13\n",
      "The sum is 16\n",
      "The sum is 20\n"
     ]
    }
   ],
   "source": [
    "for x in range(1,5):\n",
    "   y = y+x\n",
    "   print(\"The sum is {0}\".format(y))"
   ]
  },
  {
   "cell_type": "code",
   "execution_count": null,
   "metadata": {},
   "outputs": [],
   "source": []
  }
 ],
 "metadata": {
  "kernelspec": {
   "display_name": "Python 3",
   "language": "python",
   "name": "python3"
  },
  "language_info": {
   "codemirror_mode": {
    "name": "ipython",
    "version": 3
   },
   "file_extension": ".py",
   "mimetype": "text/x-python",
   "name": "python",
   "nbconvert_exporter": "python",
   "pygments_lexer": "ipython3",
   "version": "3.7.0"
  }
 },
 "nbformat": 4,
 "nbformat_minor": 2
}
